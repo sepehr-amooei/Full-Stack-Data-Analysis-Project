{
 "cells": [
  {
   "cell_type": "code",
   "execution_count": 11,
   "id": "4f1a7006",
   "metadata": {},
   "outputs": [
    {
     "name": "stdout",
     "output_type": "stream",
     "text": [
      "The autoreload extension is already loaded. To reload it, use:\n",
      "  %reload_ext autoreload\n"
     ]
    }
   ],
   "source": [
    "%load_ext autoreload\n",
    "%autoreload 2\n",
    "\n",
    "import sys\n",
    "import os\n",
    "\n",
    "parent_dir = os.path.abspath(os.path.join(os.getcwd(), '..'))\n",
    "sys.path.append(parent_dir)\n",
    "\n",
    "from src.loader import load_csv\n",
    "import pandas as pd\n",
    "import matplotlib.pylab as plt\n",
    "import seaborn as sns"
   ]
  },
  {
   "cell_type": "code",
   "execution_count": 2,
   "id": "5975dd8a",
   "metadata": {},
   "outputs": [
    {
     "name": "stdout",
     "output_type": "stream",
     "text": [
      "[INFO] loaded 1704 rows and 6 columns\n",
      "[INFO] Columns: Index(['country', 'year', 'population', 'continent', 'life_exp', 'gdp_cap'], dtype='object')\n"
     ]
    },
    {
     "data": {
      "text/html": [
       "<div>\n",
       "<style scoped>\n",
       "    .dataframe tbody tr th:only-of-type {\n",
       "        vertical-align: middle;\n",
       "    }\n",
       "\n",
       "    .dataframe tbody tr th {\n",
       "        vertical-align: top;\n",
       "    }\n",
       "\n",
       "    .dataframe thead th {\n",
       "        text-align: right;\n",
       "    }\n",
       "</style>\n",
       "<table border=\"1\" class=\"dataframe\">\n",
       "  <thead>\n",
       "    <tr style=\"text-align: right;\">\n",
       "      <th></th>\n",
       "      <th>country</th>\n",
       "      <th>year</th>\n",
       "      <th>population</th>\n",
       "      <th>continent</th>\n",
       "      <th>life_exp</th>\n",
       "      <th>gdp_cap</th>\n",
       "    </tr>\n",
       "  </thead>\n",
       "  <tbody>\n",
       "    <tr>\n",
       "      <th>0</th>\n",
       "      <td>Afghanistan</td>\n",
       "      <td>1952</td>\n",
       "      <td>8425333</td>\n",
       "      <td>Asia</td>\n",
       "      <td>28.801</td>\n",
       "      <td>779.445314</td>\n",
       "    </tr>\n",
       "    <tr>\n",
       "      <th>1</th>\n",
       "      <td>Afghanistan</td>\n",
       "      <td>1957</td>\n",
       "      <td>9240934</td>\n",
       "      <td>Asia</td>\n",
       "      <td>30.332</td>\n",
       "      <td>820.853030</td>\n",
       "    </tr>\n",
       "    <tr>\n",
       "      <th>2</th>\n",
       "      <td>Afghanistan</td>\n",
       "      <td>1962</td>\n",
       "      <td>10267083</td>\n",
       "      <td>Asia</td>\n",
       "      <td>31.997</td>\n",
       "      <td>853.100710</td>\n",
       "    </tr>\n",
       "    <tr>\n",
       "      <th>3</th>\n",
       "      <td>Afghanistan</td>\n",
       "      <td>1967</td>\n",
       "      <td>11537966</td>\n",
       "      <td>Asia</td>\n",
       "      <td>34.020</td>\n",
       "      <td>836.197138</td>\n",
       "    </tr>\n",
       "    <tr>\n",
       "      <th>4</th>\n",
       "      <td>Afghanistan</td>\n",
       "      <td>1972</td>\n",
       "      <td>13079460</td>\n",
       "      <td>Asia</td>\n",
       "      <td>36.088</td>\n",
       "      <td>739.981106</td>\n",
       "    </tr>\n",
       "  </tbody>\n",
       "</table>\n",
       "</div>"
      ],
      "text/plain": [
       "       country  year  population continent  life_exp     gdp_cap\n",
       "0  Afghanistan  1952     8425333      Asia    28.801  779.445314\n",
       "1  Afghanistan  1957     9240934      Asia    30.332  820.853030\n",
       "2  Afghanistan  1962    10267083      Asia    31.997  853.100710\n",
       "3  Afghanistan  1967    11537966      Asia    34.020  836.197138\n",
       "4  Afghanistan  1972    13079460      Asia    36.088  739.981106"
      ]
     },
     "execution_count": 2,
     "metadata": {},
     "output_type": "execute_result"
    }
   ],
   "source": [
    "df = load_csv(\"../data/raw/gapminder_full.csv\")\n",
    "df.head()"
   ]
  },
  {
   "cell_type": "code",
   "execution_count": 3,
   "id": "6dd6b670",
   "metadata": {},
   "outputs": [
    {
     "name": "stdout",
     "output_type": "stream",
     "text": [
      "<class 'pandas.core.frame.DataFrame'>\n",
      "RangeIndex: 1704 entries, 0 to 1703\n",
      "Data columns (total 6 columns):\n",
      " #   Column      Non-Null Count  Dtype  \n",
      "---  ------      --------------  -----  \n",
      " 0   country     1704 non-null   object \n",
      " 1   year        1704 non-null   int64  \n",
      " 2   population  1704 non-null   int64  \n",
      " 3   continent   1704 non-null   object \n",
      " 4   life_exp    1704 non-null   float64\n",
      " 5   gdp_cap     1704 non-null   float64\n",
      "dtypes: float64(2), int64(2), object(2)\n",
      "memory usage: 80.0+ KB\n",
      "None\n"
     ]
    }
   ],
   "source": [
    "print(df.info())"
   ]
  },
  {
   "cell_type": "code",
   "execution_count": 4,
   "id": "05b60877",
   "metadata": {},
   "outputs": [
    {
     "name": "stdout",
     "output_type": "stream",
     "text": [
      "             year    population     life_exp        gdp_cap\n",
      "count  1704.00000  1.704000e+03  1704.000000    1704.000000\n",
      "mean   1979.50000  2.960121e+07    59.474439    7215.327081\n",
      "std      17.26533  1.061579e+08    12.917107    9857.454543\n",
      "min    1952.00000  6.001100e+04    23.599000     241.165876\n",
      "25%    1965.75000  2.793664e+06    48.198000    1202.060309\n",
      "50%    1979.50000  7.023596e+06    60.712500    3531.846988\n",
      "75%    1993.25000  1.958522e+07    70.845500    9325.462346\n",
      "max    2007.00000  1.318683e+09    82.603000  113523.132900\n"
     ]
    }
   ],
   "source": [
    "print(df.describe())"
   ]
  },
  {
   "cell_type": "code",
   "execution_count": 5,
   "id": "8a40efb4",
   "metadata": {},
   "outputs": [
    {
     "name": "stdout",
     "output_type": "stream",
     "text": [
      "country       0\n",
      "year          0\n",
      "population    0\n",
      "continent     0\n",
      "life_exp      0\n",
      "gdp_cap       0\n",
      "dtype: int64\n"
     ]
    }
   ],
   "source": [
    "print(df.isnull().sum())"
   ]
  },
  {
   "cell_type": "code",
   "execution_count": 6,
   "id": "40a663ae",
   "metadata": {},
   "outputs": [
    {
     "name": "stdout",
     "output_type": "stream",
     "text": [
      "country        object\n",
      "year            int64\n",
      "population      int64\n",
      "continent      object\n",
      "life_exp      float64\n",
      "gdp_cap       float64\n",
      "dtype: object\n"
     ]
    }
   ],
   "source": [
    "print(df.dtypes)"
   ]
  },
  {
   "cell_type": "code",
   "execution_count": 7,
   "id": "2e5cdb52",
   "metadata": {},
   "outputs": [
    {
     "name": "stdout",
     "output_type": "stream",
     "text": [
      "[INFO] Converted column 'year' to datetime with format '%Y'.\n",
      "       country       year  population continent  life_exp     gdp_cap\n",
      "0  Afghanistan 1952-01-01     8425333      Asia    28.801  779.445314\n",
      "1  Afghanistan 1957-01-01     9240934      Asia    30.332  820.853030\n",
      "2  Afghanistan 1962-01-01    10267083      Asia    31.997  853.100710\n",
      "3  Afghanistan 1967-01-01    11537966      Asia    34.020  836.197138\n",
      "4  Afghanistan 1972-01-01    13079460      Asia    36.088  739.981106\n"
     ]
    }
   ],
   "source": [
    "from src.cleaning import convert_column_to_datetime, standardize_text_column\n",
    "\n",
    "df = convert_column_to_datetime(df, 'year', '%Y')\n",
    "print(df.head())"
   ]
  },
  {
   "cell_type": "code",
   "execution_count": 8,
   "id": "211c1874",
   "metadata": {},
   "outputs": [
    {
     "name": "stdout",
     "output_type": "stream",
     "text": [
      "       country       year  population continent  life_exp     gdp_cap  \\\n",
      "0  Afghanistan 1952-01-01     8425333      Asia    28.801  779.445314   \n",
      "1  Afghanistan 1957-01-01     9240934      Asia    30.332  820.853030   \n",
      "2  Afghanistan 1962-01-01    10267083      Asia    31.997  853.100710   \n",
      "3  Afghanistan 1967-01-01    11537966      Asia    34.020  836.197138   \n",
      "4  Afghanistan 1972-01-01    13079460      Asia    36.088  739.981106   \n",
      "\n",
      "      gdp_total life_exp_bin  \n",
      "0  6.567086e+09          Low  \n",
      "1  7.585449e+09          Low  \n",
      "2  8.758856e+09          Low  \n",
      "3  9.648014e+09          Low  \n",
      "4  9.678553e+09          Low  \n"
     ]
    }
   ],
   "source": [
    "df['gdp_total'] = df['gdp_cap'] * df['population']\n",
    "df['life_exp_bin'] = pd.cut(df[\"life_exp\"], bins= [0, 50, 65, 80, 90], labels=[\"Low\", \"Medium\", \"High\", \"Very High\"])\n",
    "print(df.head())"
   ]
  },
  {
   "cell_type": "code",
   "execution_count": 9,
   "id": "ed8ff64c",
   "metadata": {},
   "outputs": [
    {
     "name": "stdout",
     "output_type": "stream",
     "text": [
      "[INFO] Standardized text in column 'country'.\n",
      "[INFO] Standardized text in column 'continent'.\n"
     ]
    }
   ],
   "source": [
    "df = standardize_text_column(df, [\"country\", \"continent\"], False)"
   ]
  },
  {
   "cell_type": "code",
   "execution_count": 10,
   "id": "4a7147a4",
   "metadata": {},
   "outputs": [
    {
     "name": "stdout",
     "output_type": "stream",
     "text": [
      "       country       year  population continent  life_exp     gdp_cap  \\\n",
      "0  Afghanistan 1952-01-01     8425333      Asia    28.801  779.445314   \n",
      "1  Afghanistan 1957-01-01     9240934      Asia    30.332  820.853030   \n",
      "2  Afghanistan 1962-01-01    10267083      Asia    31.997  853.100710   \n",
      "3  Afghanistan 1967-01-01    11537966      Asia    34.020  836.197138   \n",
      "4  Afghanistan 1972-01-01    13079460      Asia    36.088  739.981106   \n",
      "\n",
      "      gdp_total life_exp_bin  \n",
      "0  6.567086e+09          Low  \n",
      "1  7.585449e+09          Low  \n",
      "2  8.758856e+09          Low  \n",
      "3  9.648014e+09          Low  \n",
      "4  9.678553e+09          Low  \n"
     ]
    }
   ],
   "source": [
    "print(df.head())"
   ]
  },
  {
   "cell_type": "code",
   "execution_count": 14,
   "id": "d5dc68a6",
   "metadata": {},
   "outputs": [
    {
     "name": "stdout",
     "output_type": "stream",
     "text": [
      "            life_exp                           gdp_cap                \\\n",
      "                mean   median        std          mean        median   \n",
      "continent                                                              \n",
      "Africa     48.865330  47.7920   9.150210   2193.754578   1192.138217   \n",
      "Americas   64.658737  67.0480   9.345088   7136.110356   5465.509853   \n",
      "Asia       60.064903  61.7915  11.864532   7902.150428   2646.786844   \n",
      "Europe     71.903686  72.2410   5.433178  14469.475533  12081.749115   \n",
      "Oceania    74.326208  73.6650   3.795611  18621.609223  17983.303955   \n",
      "\n",
      "                           population                            \n",
      "                    std          mean      median           std  \n",
      "continent                                                        \n",
      "Africa      2827.929863  9.916003e+06   4579311.0  1.549092e+07  \n",
      "Americas    6396.764112  2.450479e+07   6227510.0  5.097943e+07  \n",
      "Asia       14045.373112  7.703872e+07  14530830.5  2.068852e+08  \n",
      "Europe      9355.213498  1.716976e+07   8551125.0  2.051944e+07  \n",
      "Oceania     6358.983321  8.874672e+06   6403491.5  6.506342e+06  \n"
     ]
    }
   ],
   "source": [
    "df_summery = df.groupby('continent').agg({\n",
    "    'life_exp' : ['mean', 'median', 'std'],\n",
    "    'gdp_cap' : ['mean', 'median', 'std'],\n",
    "    'population' : ['mean', 'median', 'std']\n",
    "})\n",
    "\n",
    "print(df_summery)\n",
    "\n"
   ]
  },
  {
   "cell_type": "code",
   "execution_count": 18,
   "id": "36bd9b1d",
   "metadata": {},
   "outputs": [
    {
     "data": {
      "image/png": "[encoded data removed]",
      "text/plain": [
       "<Figure size 800x600 with 1 Axes>"
      ]
     },
     "metadata": {},
     "output_type": "display_data"
    }
   ],
   "source": [
    "plt.figure(figsize=(8,6))\n",
    "sns.histplot(data=df, x='life_exp', bins=30,kde= True)\n",
    "plt.title('Distribution of Life Expectancy by Frequency (1952–2007)')\n",
    "plt.xlabel('Life Expectancy')\n",
    "plt.ylabel('freaquency')\n",
    "plt.tight_layout()\n",
    "plt.show()"
   ]
  },
  {
   "cell_type": "code",
   "execution_count": null,
   "id": "9f132246",
   "metadata": {},
   "outputs": [],
   "source": []
  }
 ],
 "metadata": {
  "kernelspec": {
   "display_name": "Python 3 (ipykernel)",
   "language": "python",
   "name": "python3"
  },
  "language_info": {
   "codemirror_mode": {
    "name": "ipython",
    "version": 3
   },
   "file_extension": ".py",
   "mimetype": "text/x-python",
   "name": "python",
   "nbconvert_exporter": "python",
   "pygments_lexer": "ipython3",
   "version": "3.13.5"
  }
 },
 "nbformat": 4,
 "nbformat_minor": 5
}
